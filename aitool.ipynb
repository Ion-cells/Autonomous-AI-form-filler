{
 "cells": [
  {
   "cell_type": "code",
   "execution_count": 1,
   "id": "b7475a8c-5298-4fe9-abd2-dd9aa16d44f1",
   "metadata": {},
   "outputs": [
    {
     "name": "stdout",
     "output_type": "stream",
     "text": [
      "Requirement already satisfied: selenium in c:\\users\\user\\anaconda3\\lib\\site-packages (4.21.0)\n",
      "Requirement already satisfied: urllib3[socks]<3,>=1.26 in c:\\users\\user\\anaconda3\\lib\\site-packages (from selenium) (1.26.11)\n",
      "Requirement already satisfied: typing_extensions>=4.9.0 in c:\\users\\user\\anaconda3\\lib\\site-packages (from selenium) (4.12.2)\n",
      "Requirement already satisfied: trio~=0.17 in c:\\users\\user\\anaconda3\\lib\\site-packages (from selenium) (0.25.1)\n",
      "Requirement already satisfied: trio-websocket~=0.9 in c:\\users\\user\\anaconda3\\lib\\site-packages (from selenium) (0.11.1)\n",
      "Requirement already satisfied: certifi>=2021.10.8 in c:\\users\\user\\anaconda3\\lib\\site-packages (from selenium) (2022.9.14)\n",
      "Requirement already satisfied: sortedcontainers in c:\\users\\user\\anaconda3\\lib\\site-packages (from trio~=0.17->selenium) (2.4.0)\n",
      "Requirement already satisfied: idna in c:\\users\\user\\anaconda3\\lib\\site-packages (from trio~=0.17->selenium) (3.3)\n",
      "Requirement already satisfied: attrs>=23.2.0 in c:\\users\\user\\anaconda3\\lib\\site-packages (from trio~=0.17->selenium) (23.2.0)\n",
      "Requirement already satisfied: outcome in c:\\users\\user\\anaconda3\\lib\\site-packages (from trio~=0.17->selenium) (1.3.0.post0)\n",
      "Requirement already satisfied: cffi>=1.14 in c:\\users\\user\\anaconda3\\lib\\site-packages (from trio~=0.17->selenium) (1.15.1)\n",
      "Requirement already satisfied: sniffio>=1.3.0 in c:\\users\\user\\anaconda3\\lib\\site-packages (from trio~=0.17->selenium) (1.3.1)\n",
      "Requirement already satisfied: exceptiongroup in c:\\users\\user\\anaconda3\\lib\\site-packages (from trio~=0.17->selenium) (1.2.1)\n",
      "Requirement already satisfied: wsproto>=0.14 in c:\\users\\user\\anaconda3\\lib\\site-packages (from trio-websocket~=0.9->selenium) (1.2.0)\n",
      "Requirement already satisfied: PySocks!=1.5.7,<2.0,>=1.5.6 in c:\\users\\user\\anaconda3\\lib\\site-packages (from urllib3[socks]<3,>=1.26->selenium) (1.7.1)\n",
      "Requirement already satisfied: pycparser in c:\\users\\user\\anaconda3\\lib\\site-packages (from cffi>=1.14->trio~=0.17->selenium) (2.21)\n",
      "Requirement already satisfied: h11<1,>=0.9.0 in c:\\users\\user\\anaconda3\\lib\\site-packages (from wsproto>=0.14->trio-websocket~=0.9->selenium) (0.14.0)\n"
     ]
    }
   ],
   "source": [
    "!pip install selenium\n"
   ]
  },
  {
   "cell_type": "code",
   "execution_count": 11,
   "id": "ed8ac27d-9adc-400c-8202-f6751f9f92f4",
   "metadata": {},
   "outputs": [
    {
     "name": "stdout",
     "output_type": "stream",
     "text": [
      "Requirement already satisfied: selenium in c:\\users\\user\\anaconda3\\lib\\site-packages (4.21.0)\n",
      "Requirement already satisfied: urllib3[socks]<3,>=1.26 in c:\\users\\user\\anaconda3\\lib\\site-packages (from selenium) (1.26.11)\n",
      "Requirement already satisfied: trio-websocket~=0.9 in c:\\users\\user\\anaconda3\\lib\\site-packages (from selenium) (0.11.1)\n",
      "Requirement already satisfied: certifi>=2021.10.8 in c:\\users\\user\\anaconda3\\lib\\site-packages (from selenium) (2022.9.14)\n",
      "Requirement already satisfied: typing_extensions>=4.9.0 in c:\\users\\user\\anaconda3\\lib\\site-packages (from selenium) (4.12.2)\n",
      "Requirement already satisfied: trio~=0.17 in c:\\users\\user\\anaconda3\\lib\\site-packages (from selenium) (0.25.1)\n",
      "Requirement already satisfied: idna in c:\\users\\user\\anaconda3\\lib\\site-packages (from trio~=0.17->selenium) (3.3)\n",
      "Requirement already satisfied: sortedcontainers in c:\\users\\user\\anaconda3\\lib\\site-packages (from trio~=0.17->selenium) (2.4.0)\n",
      "Requirement already satisfied: outcome in c:\\users\\user\\anaconda3\\lib\\site-packages (from trio~=0.17->selenium) (1.3.0.post0)\n",
      "Requirement already satisfied: sniffio>=1.3.0 in c:\\users\\user\\anaconda3\\lib\\site-packages (from trio~=0.17->selenium) (1.3.1)\n",
      "Requirement already satisfied: exceptiongroup in c:\\users\\user\\anaconda3\\lib\\site-packages (from trio~=0.17->selenium) (1.2.1)\n",
      "Requirement already satisfied: cffi>=1.14 in c:\\users\\user\\anaconda3\\lib\\site-packages (from trio~=0.17->selenium) (1.15.1)\n",
      "Requirement already satisfied: attrs>=23.2.0 in c:\\users\\user\\anaconda3\\lib\\site-packages (from trio~=0.17->selenium) (23.2.0)\n",
      "Requirement already satisfied: wsproto>=0.14 in c:\\users\\user\\anaconda3\\lib\\site-packages (from trio-websocket~=0.9->selenium) (1.2.0)\n",
      "Requirement already satisfied: PySocks!=1.5.7,<2.0,>=1.5.6 in c:\\users\\user\\anaconda3\\lib\\site-packages (from urllib3[socks]<3,>=1.26->selenium) (1.7.1)\n",
      "Requirement already satisfied: pycparser in c:\\users\\user\\anaconda3\\lib\\site-packages (from cffi>=1.14->trio~=0.17->selenium) (2.21)\n",
      "Requirement already satisfied: h11<1,>=0.9.0 in c:\\users\\user\\anaconda3\\lib\\site-packages (from wsproto>=0.14->trio-websocket~=0.9->selenium) (0.14.0)\n"
     ]
    }
   ],
   "source": [
    "!pip install --upgrade selenium"
   ]
  },
  {
   "cell_type": "code",
   "execution_count": 16,
   "id": "cf44ae99-c735-4960-93e5-fdf8d8cf311e",
   "metadata": {},
   "outputs": [],
   "source": [
    "from selenium import webdriver\n",
    "from selenium.webdriver.common.by import By\n",
    "from selenium.webdriver.common.keys import Keys\n",
    "import time\n"
   ]
  },
  {
   "cell_type": "code",
   "execution_count": null,
   "id": "fdd63a9d-5eea-4141-a0b8-6581e1e2e95c",
   "metadata": {
    "tags": []
   },
   "outputs": [],
   "source": [
    "driver = webdriver.Chrome()\n",
    "driver.get(\"https://form.jotform.com/241617189501153\")\n",
    "\n",
    "# now after this we will fill the form by using xpath of the imput field\n",
    "first = driver.find_element(By.XPATH, '//*[@id=\"first_11\"]')\n",
    "first_name= \"aman\" \n",
    "first.send_keys(first_name)\n",
    "\n",
    "\n",
    "middle = driver.find_element(By.XPATH, '//*[@id=\"middle_11\"]')\n",
    "middle_name= \"\" \n",
    "middle.send_keys(middle_name)\n",
    "\n",
    "last = driver.find_element(By.XPATH, '//*[@id=\"last_11\"]')\n",
    "last_name= \"Jha\" \n",
    "last.send_keys(last_name)\n",
    "\n",
    "street = driver.find_element(By.XPATH, '//*[@id=\"input_16_addr_line1\"]')\n",
    "street_address= \"shantiniketan apartment\" \n",
    "street.send_keys(street_address)\n",
    "\n",
    "street_address_line = driver.find_element(By.XPATH, '//*[@id=\"input_16_addr_line2\"]')\n",
    "street_address_line2= \"house number 2\" \n",
    "street_address_line.send_keys(street_address_line2)\n",
    "\n",
    "cit = driver.find_element(By.XPATH, '//*[@id=\"input_16_city\"]')\n",
    "city= \"jamshedpur\" \n",
    "cit.send_keys(city)\n",
    "\n",
    "stat = driver.find_element(By.XPATH, '//*[@id=\"input_16_state\"]')\n",
    "state= \"jharkhand\" \n",
    "stat.send_keys(state)\n",
    "\n",
    "Zip = driver.find_element(By.XPATH, '//*[@id=\"input_16_postal\"]')\n",
    "Postal_code= \"831003\" \n",
    "Zip.send_keys(Postal_code)\n",
    "\n",
    "email =driver.find_element(By.XPATH, '//*[@id=\"input_12\"]')\n",
    "Email_Address= \"abcd32@gmail.com\"\n",
    "email.send_keys(Email_Address)\n",
    "\n",
    "\n",
    "phone = driver.find_element(By.XPATH, '//*[@id=\"input_13_full\"]')\n",
    "phone_no= \"7381893832\"\n",
    "phone.send_keys(phone_no)\n",
    "\n",
    "link = driver.find_element(By.XPATH, '//*[@id=\"input_19\"]')\n",
    "LinkedIn= \"https://linkedin/suruchi-0382922/\"\n",
    "link.send_keys(LinkedIn)\n",
    "\n",
    "AI = driver.find_element(By.XPATH, '//*[@id=\"input_24\"]')\n",
    "Ai_agent = \"LLM or large language model is currently has set the TREND. it has been helping humans solve their problem effectively by copying their styles or expression \"\n",
    "AI.send_keys(Ai_agent)\n",
    "\n",
    "webauto = driver.find_element(By.XPATH, '//*[@id=\"input_25\"]')\n",
    "web_automation= \"web automation is a way of to decrease manual error and do things in a way fast manner..\"\n",
    "webauto.send_keys(web_automation)\n",
    "\n",
    "rev_linkedlist= driver.find_element(By.XPATH, '//*[@id=\"input_23\"]')\n",
    "linked_list= \"in order to reverse a linked list we will be required of another variable to swap values as we reverse or change position\"\n",
    "rev_linkedlist.send_keys(linked_list)\n",
    "\n",
    "resume = driver.find_element(By.XPATH, '//*[@id=\"input_17\"]')\n",
    "resum = r'C:\\Users\\user\\OneDrive\\Desktop\\pdfs& media\\suruchi resume.pdf'\n",
    "resume.send_keys(resum)\n",
    "\n",
    "resume = driver.find_element(By.XPATH, '//*[@id=\"input_17\"]')\n",
    "resum = r'C:\\Users\\user\\OneDrive\\Desktop\\pdfs& media\\suruchi resume.pdf'\n",
    "resume.send_keys(resum)\n",
    "\n",
    "cover = driver.find_element(By.XPATH,'//*[@id=\"input_22\"]')\n",
    "letter = \" I am suruchi kumari from arka jain university currently pursuing btech in cse. I am very eager and determined...\"\n",
    "cover.send_keys(letter)\n",
    "\n",
    "#after filling out the form we will need to submit it by clicking on the apply button\n",
    "\n",
    "\n",
    "cover.submit()\n",
    "\n",
    "time.sleep(3)\n",
    "driver.quit()\n"
   ]
  },
  {
   "cell_type": "code",
   "execution_count": null,
   "id": "f982ff52-fdfa-4ce8-94ce-ffbe0c6cb8bc",
   "metadata": {},
   "outputs": [],
   "source": []
  }
 ],
 "metadata": {
  "kernelspec": {
   "display_name": "Python 3 (ipykernel)",
   "language": "python",
   "name": "python3"
  },
  "language_info": {
   "codemirror_mode": {
    "name": "ipython",
    "version": 3
   },
   "file_extension": ".py",
   "mimetype": "text/x-python",
   "name": "python",
   "nbconvert_exporter": "python",
   "pygments_lexer": "ipython3",
   "version": "3.9.13"
  }
 },
 "nbformat": 4,
 "nbformat_minor": 5
}
